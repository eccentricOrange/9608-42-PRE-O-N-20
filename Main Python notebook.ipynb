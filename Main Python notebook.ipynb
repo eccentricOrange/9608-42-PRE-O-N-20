{
 "metadata": {
  "language_info": {
   "codemirror_mode": {
    "name": "ipython",
    "version": 3
   },
   "file_extension": ".py",
   "mimetype": "text/x-python",
   "name": "python",
   "nbconvert_exporter": "python",
   "pygments_lexer": "ipython3",
   "version": "3.8.5-final"
  },
  "orig_nbformat": 2,
  "kernelspec": {
   "name": "Python 3.8.5 32-bit",
   "display_name": "Python 3.8.5 32-bit",
   "metadata": {
    "interpreter": {
     "hash": "7a542ca580817fc4dd55327026e074e2fa0cd470fc5dee9350c2d8b13822db8d"
    }
   }
  }
 },
 "nbformat": 4,
 "nbformat_minor": 2,
 "cells": [
  {
   "source": [
    "# 9608/42/PRE/O/N/20\n",
    "Last edited:\n",
    "<br><br><br>\n",
    "This is all the **program code** for the solution.\n",
    "\n",
    "The cell below declares a subroutine to insert new elements, and one to traverse the linked list and print out its elements."
   ],
   "cell_type": "markdown",
   "metadata": {}
  },
  {
   "cell_type": "code",
   "execution_count": 4,
   "metadata": {},
   "outputs": [],
   "source": [
    "## Subroutine to insert a new element\n",
    "def insert(newItem):\n",
    "    global startPointer, heapStartPointer\n",
    "    \n",
    "    if heapStartPointer != nullPointer:\n",
    "        tempPointer = startPointer\n",
    "        startPointer = heapStartPointer\n",
    "        heapStartPointer = DestinationsPointers[heapStartPointer]\n",
    "        Destinations[startPointer] = newItem\n",
    "        DestinationsPointers[startPointer] = tempPointer\n",
    "    \n",
    "    else:\n",
    "        print(\"Linked list full, cannot insert.\")\n",
    "\n",
    "## Subroutine to traverse the linked list and print out its elements\n",
    "def traverse():\n",
    "    print(\"\")\n",
    "    \n",
    "    global startPointer\n",
    "    itemPointer = startPointer\n",
    "\n",
    "    print(Destinations[itemPointer])\n",
    "\n",
    "    while DestinationsPointers[itemPointer] != nullPointer:\n",
    "        itemPointer = DestinationsPointers[itemPointer]\n",
    "        print(Destinations[itemPointer])"
   ]
  },
  {
   "source": [
    "## TASK 3.5\n",
    "Write **program code** to declare the linked list, using an array."
   ],
   "cell_type": "markdown",
   "metadata": {}
  },
  {
   "cell_type": "code",
   "execution_count": 5,
   "metadata": {},
   "outputs": [],
   "source": [
    "## Declare constants and variables\n",
    "startPointer = -1           # INTEGER\n",
    "heapStartPointer = 0        # INTEGER\n",
    "nullPointer = -1            # INTEGER CONSTANT\n",
    "\n",
    "## Arrays of the linked list itself\n",
    "Destinations = [None for i in range(10)]                # ARRAY[1:10] OF VOID\n",
    "DestinationsPointers = [(i + 1) for i in range(10)]     # ARRAY[1:10] OF INTEGER\n",
    "DestinationsPointers[9] = -1\n",
    "\n",
    "## Insert the given destinations one by one\n",
    "for Destination in [\"Paris, France\", \"Rome, Italy\", \"New Delhi, India\", \"Kuala Lumpur,  Malaysia\", \"Wellington, New Zealand\", \"New York, USA\"]:\n",
    "    insert(Destination)\n",
    "\n",
    "## \n",
    "traverse()"
   ]
  },
  {
   "source": [
    "## TASK 3.6\n",
    "Extend your **program code** by writing a subroutine that adds a new destination to the end of your\n",
    "linked list."
   ],
   "cell_type": "markdown",
   "metadata": {}
  },
  {
   "cell_type": "code",
   "execution_count": 6,
   "metadata": {
    "tags": []
   },
   "outputs": [
    {
     "output_type": "stream",
     "name": "stdout",
     "text": [
      "\nReykjavik, Iceland\nNew York, USA\nWellington, New Zealand\nKuala Lumpur,  Malaysia\nNew Delhi, India\nRome, Italy\nParis, France\n"
     ]
    }
   ],
   "source": [
    "def insert(newItem):\n",
    "    global startPointer, heapStartPointer\n",
    "    \n",
    "    if heapStartPointer != nullPointer:\n",
    "        tempPointer = startPointer\n",
    "        startPointer = heapStartPointer\n",
    "        heapStartPointer = DestinationsPointers[heapStartPointer]\n",
    "        Destinations[startPointer] = newItem\n",
    "        DestinationsPointers[startPointer] = tempPointer\n",
    "    \n",
    "    else:\n",
    "        print(\"Linked list full, cannot insert.\")\n",
    "\n",
    "## Test the routine by adding Reykjavik, Iceland as in TASK 3.3\n",
    "insert(\"Reykjavik, Iceland\")\n",
    "\n",
    "## Traverse the linked list and print out each element to test\n",
    "traverse()"
   ]
  },
  {
   "source": [
    "## TASK 3.7\n",
    "Extend your **program code** by writing a subroutine to delete the destination node entered by the user from the linked list."
   ],
   "cell_type": "markdown",
   "metadata": {}
  },
  {
   "cell_type": "code",
   "execution_count": 7,
   "metadata": {},
   "outputs": [
    {
     "output_type": "stream",
     "name": "stdout",
     "text": [
      "\nReykjavik, Iceland\nNew York, USA\nWellington, New Zealand\nKuala Lumpur,  Malaysia\nRome, Italy\nParis, France\n"
     ]
    }
   ],
   "source": [
    "def delete(itemDelete):\n",
    "    global startPointer, heapStartPointer\n",
    "\n",
    "    if startPointer == nullPointer:\n",
    "        print(\"Linked list empty\")\n",
    "    \n",
    "    else:\n",
    "        index = startPointer\n",
    "        \n",
    "        while (Destinations[index] != itemDelete) and (index != nullPointer):\n",
    "            oldIndex = index\n",
    "            index = DestinationsPointers[index]\n",
    "        \n",
    "        if index == nullPointer:\n",
    "            print(\"Item\", itemDelete, \"not found\")\n",
    "        \n",
    "        else:\n",
    "            Destinations[index] = None\n",
    "            tempPointer = DestinationsPointers[index]\n",
    "            DestinationsPointers[index] = heapStartPointer\n",
    "            heapStartPointer = index\n",
    "            DestinationsPointers[oldIndex] = tempPointer\n",
    "\n",
    "## Delete New Delhi, India to test\n",
    "delete(\"New Delhi, India\")\n",
    "\n",
    "## Traverse the linked list and print out each element to test\n",
    "traverse()"
   ]
  }
 ]
}