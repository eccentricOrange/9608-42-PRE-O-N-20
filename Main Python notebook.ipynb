{
 "metadata": {
  "language_info": {
   "codemirror_mode": {
    "name": "ipython",
    "version": 3
   },
   "file_extension": ".py",
   "mimetype": "text/x-python",
   "name": "python",
   "nbconvert_exporter": "python",
   "pygments_lexer": "ipython3",
   "version": "3.8.5-final"
  },
  "orig_nbformat": 2,
  "kernelspec": {
   "name": "Python 3.8.5 32-bit",
   "display_name": "Python 3.8.5 32-bit",
   "metadata": {
    "interpreter": {
     "hash": "7a542ca580817fc4dd55327026e074e2fa0cd470fc5dee9350c2d8b13822db8d"
    }
   }
  }
 },
 "nbformat": 4,
 "nbformat_minor": 2,
 "cells": [
  {
   "source": [
    "# 9608/42/PRE/O/N/20\n",
    "Last edited: Anuj Verma, 23:53 11/10/2020\n",
    "<br><br><br>\n",
    "This is all the **program code** for the solution.\n",
    "\n",
    "The cell below declares a subroutine to insert new elements, and one to traverse the linked list and print out its elements.\n",
    "\n",
    "| Identifier | Data Type | Purpose |\n",
    "| -- | -- | :-- |\n",
    "| `insert()` | `PROCEDURE` | A subroutine to insert a new item at the end of the linked list (unless it is full). |\n",
    "| tempPointer (`insert()` scope) | `INTEGER` | A temporary holding for the start pointer while a new item is inserted. |\n",
    "| `traverse()` | `PROCEDURE` | A subroutine to traverse the linked list and print out its elements. |"
   ],
   "cell_type": "markdown",
   "metadata": {}
  },
  {
   "cell_type": "code",
   "execution_count": 1,
   "metadata": {},
   "outputs": [],
   "source": [
    "## Subroutine to insert a new element\n",
    "def insert(newItem):\n",
    "    global startPointer, heapStartPointer\n",
    "    \n",
    "    if heapStartPointer != nullPointer:\n",
    "        tempPointer = startPointer\n",
    "        startPointer = heapStartPointer\n",
    "        heapStartPointer = DestinationsPointers[heapStartPointer]\n",
    "        Destinations[startPointer] = newItem\n",
    "        DestinationsPointers[startPointer] = tempPointer\n",
    "    \n",
    "    else:\n",
    "        print(\"Linked list full, cannot insert.\")\n",
    "\n",
    "## Subroutine to traverse the linked list and print out its elements\n",
    "def traverse():\n",
    "    print(\"\")\n",
    "    \n",
    "    global startPointer\n",
    "    itemPointer = startPointer\n",
    "\n",
    "    print(Destinations[itemPointer])\n",
    "\n",
    "    while DestinationsPointers[itemPointer] != nullPointer:\n",
    "        itemPointer = DestinationsPointers[itemPointer]\n",
    "        print(Destinations[itemPointer])"
   ]
  },
  {
   "source": [
    "## TASK 3.5\n",
    "> Write **program code** to declare the linked list, using an array.\n",
    "\n",
    "| Identifier | Data Type | Purpose |\n",
    "| -- | -- | :-- |\n",
    "| startPointer | `INTEGER` | A pointer to the first element of the linked list. |\n",
    "| heapStartPointer | `INTEGER` | A pointer to the next free location in the linked list. |\n",
    "| nullPointer | `INTEGER` | Constant for a termanating pointer. |\n",
    "| Destinations | `ARRAY[0:9] OF STRING` | Data stored in the linked list. |\n",
    "| DestinationsPointers | `ARRAY[0:9] OF INTEGER` | Linked list pointers. |\n",
    "| Destination | `STRING` | A `for` loop element used while inserting items to the linked list. |"
   ],
   "cell_type": "markdown",
   "metadata": {}
  },
  {
   "cell_type": "code",
   "execution_count": 2,
   "metadata": {},
   "outputs": [
    {
     "output_type": "stream",
     "name": "stdout",
     "text": [
      "\nNew York, USA\nWellington, New Zealand\nKuala Lumpur, Malaysia\nNew Delhi, India\nRome, Italy\nParis, France\n"
     ]
    }
   ],
   "source": [
    "## Declare constants and variables\n",
    "startPointer = -1           # INTEGER\n",
    "heapStartPointer = 0        # INTEGER\n",
    "nullPointer = -1            # INTEGER CONSTANT\n",
    "\n",
    "## Arrays of the linked list itself\n",
    "Destinations = [None for i in range(10)]                # ARRAY[1:10] OF VOID\n",
    "DestinationsPointers = [(i + 1) for i in range(10)]     # ARRAY[1:10] OF INTEGER\n",
    "DestinationsPointers[9] = -1\n",
    "\n",
    "## Insert the given destinations one by one\n",
    "for Destination in [\"Paris, France\", \"Rome, Italy\", \"New Delhi, India\", \"Kuala Lumpur, Malaysia\", \"Wellington, New Zealand\", \"New York, USA\"]:\n",
    "    insert(Destination)\n",
    "\n",
    "## Traverse the linked list and print out each element to test\n",
    "traverse()"
   ]
  },
  {
   "source": [
    "## TASK 3.6\n",
    "> Extend your **program code** by writing a subroutine that adds a new destination to the end of your\n",
    "linked list.\n",
    "\n",
    "We already implemented this routine and used it to initiaize the linked list. But a copy along with the identifier table is given here.\n",
    "\n",
    "| Identifier | Data Type | Purpose |\n",
    "| -- | -- | :-- |\n",
    "| `insert()` | `PROCEDURE` | A subroutine to insert a new item at the end of the linked list (unless it is full). |\n",
    "| tempPointer (`insert()` scope) | `INTEGER` | A temporary holding for the start pointer while a new item is inserted. |"
   ],
   "cell_type": "markdown",
   "metadata": {}
  },
  {
   "cell_type": "code",
   "execution_count": 3,
   "metadata": {
    "tags": []
   },
   "outputs": [
    {
     "output_type": "stream",
     "name": "stdout",
     "text": [
      "\n",
      "Reykjavik, Iceland\n",
      "New York, USA\n",
      "Wellington, New Zealand\n",
      "Kuala Lumpur, Malaysia\n",
      "New Delhi, India\n",
      "Rome, Italy\n",
      "Paris, France\n"
     ]
    }
   ],
   "source": [
    "def insert(newItem):\n",
    "    global startPointer, heapStartPointer\n",
    "    \n",
    "    if heapStartPointer != nullPointer:\n",
    "        tempPointer = startPointer\n",
    "        startPointer = heapStartPointer\n",
    "        heapStartPointer = DestinationsPointers[heapStartPointer]\n",
    "        Destinations[startPointer] = newItem\n",
    "        DestinationsPointers[startPointer] = tempPointer\n",
    "    \n",
    "    else:\n",
    "        print(\"Linked list full, cannot insert.\")\n",
    "\n",
    "## Test the routine by adding Reykjavik, Iceland as in TASK 3.3\n",
    "insert(\"Reykjavik, Iceland\")\n",
    "\n",
    "## Traverse the linked list and print out each element to test\n",
    "traverse()"
   ]
  },
  {
   "source": [
    "## TASK 3.7\n",
    "> Extend your **program code** by writing a subroutine to delete the destination node entered by the user from the linked list.\n",
    "\n",
    "| Identifier | Data Type | Purpose |\n",
    "| -- | -- | :-- |\n",
    "| `delete()` | `PROCEDURE` | Delete the given element from the linked list. |\n",
    "| index (`delete()` scope) | `INTEGER` | The pointer to the element to be deleted. |\n",
    "| oldIndex (`delete()` scope) | `INTEGER` | Pointer to the next element. |\n",
    "| tempPointer (`delete()` scope) | `INTEGER` | A temporary holding for the start pointer while a new item is inserted. |"
   ],
   "cell_type": "markdown",
   "metadata": {}
  },
  {
   "cell_type": "code",
   "execution_count": 4,
   "metadata": {},
   "outputs": [
    {
     "output_type": "stream",
     "name": "stdout",
     "text": [
      "\nReykjavik, Iceland\nNew York, USA\nWellington, New Zealand\nNew Delhi, India\nRome, Italy\nParis, France\n"
     ]
    }
   ],
   "source": [
    "def delete(itemDelete):\n",
    "    global startPointer, heapStartPointer\n",
    "\n",
    "    if startPointer == nullPointer:\n",
    "        print(\"Linked list empty\")\n",
    "    \n",
    "    else:\n",
    "        index = startPointer\n",
    "        \n",
    "        while (Destinations[index] != itemDelete) and (index != nullPointer):\n",
    "            oldIndex = index\n",
    "            index = DestinationsPointers[index]\n",
    "        \n",
    "        if index == nullPointer:\n",
    "            print(\"Item\", itemDelete, \"not found\")\n",
    "        \n",
    "        else:\n",
    "            Destinations[index] = None\n",
    "            tempPointer = DestinationsPointers[index]\n",
    "            DestinationsPointers[index] = heapStartPointer\n",
    "            heapStartPointer = index\n",
    "            DestinationsPointers[oldIndex] = tempPointer\n",
    "\n",
    "## Delete Kuala Lumpur, Malaysia to test\n",
    "delete(\"Kuala Lumpur, Malaysia\")\n",
    "\n",
    "## Traverse the linked list and print out each element to test\n",
    "traverse()"
   ]
  },
  {
   "source": [
    "## TASK 3.8\n",
    "> Discuss other linked list operations that could be implemented.\n",
    "> \n",
    "> Write **program code** to implement the operation(s) you discuss.\n",
    "\n",
    "We already wrote a routine to traverse the linked list and print out elements, but we can write two additional routines:\n",
    "* `find()` to find the given element in the linked list.\n",
    "* `update()` to change the value of an element.\n",
    "\n",
    "| Identifier | Data Type | Purpose |\n",
    "| -- | -- | :-- |\n",
    "| `find()` | `FUNCTION` | Fuction returns the index of the item passed as the argument, or `-1` if it could not be found. |\n",
    "| index (`find()` scope) | `INTEGER` | The temporary variable for the index of the element if it was found. |\n",
    "| itemToFind (`find()` scope) | `STRING` | The value of the item to be searched for, passed as a parameter. |\n",
    "| `update()` | `PROCEDURE` | Procedure replaces `itemToUpdate` with `newItem` if `itemToUpdate` was found, or throws an error message otherwise. |\n",
    "| index (`update()` scope) | `INTEGER` | The temporary variable for the index of the element if it was found. |\n",
    "| itemToUpdate (`update()` scope) | `STRING` | The value of the item to be searched for, passed as a parameter. |\n",
    "| newItem (`update()` scope) | `STRING` | The new value of `itemToUpdate`, passed as a parameter. |"
   ],
   "cell_type": "markdown",
   "metadata": {}
  },
  {
   "cell_type": "code",
   "execution_count": 5,
   "metadata": {},
   "outputs": [
    {
     "output_type": "stream",
     "name": "stdout",
     "text": [
      "\nReykjavik, Iceland\nNew York, USA\nWellington, New Zealand\nNew Delhi, India\nRome, Italy\nParis, France\n\nNew Delhi, India was found at index 2\n\nBngalore, India could not be found in the list.\n\n\nReykjavik, Iceland\nNew York, USA\nWellington, New Zealand\nBangalore, India\nRome, Italy\nParis, France\n"
     ]
    }
   ],
   "source": [
    "## Procedure to find the given item in the linked list\n",
    "def find(itemToFind):\n",
    "    print(\"\")\n",
    "    \n",
    "    global startPointer\n",
    "    itemPointer = startPointer\n",
    "    index = -1\n",
    "\n",
    "    if itemToFind == Destinations[itemPointer]:\n",
    "        index = itemPointer\n",
    "\n",
    "    while (DestinationsPointers[itemPointer] != nullPointer) and (index == -1):\n",
    "        itemPointer = DestinationsPointers[itemPointer]\n",
    "        \n",
    "        if itemToFind == Destinations[itemPointer]:\n",
    "            index = itemPointer\n",
    "    \n",
    "    if index == -1:\n",
    "        print(itemToFind + \" could not be found in the list.\")\n",
    "    \n",
    "    return index\n",
    "\n",
    "## Procedure to update the given item in the linked list\n",
    "def update(itemToUpdate, newItem):\n",
    "    index = find(itemToUpdate)\n",
    "\n",
    "    if index != -1:\n",
    "        Destinations[index] = newItem\n",
    "\n",
    "## Print out the list before any updates\n",
    "traverse()\n",
    "\n",
    "## Look for New Delhi, India and output the index if it was found\n",
    "print (\"New Delhi, India was found at index \" + str(find(\"New Delhi, India\")))\n",
    "\n",
    "## Look for Bangalore, India and output the index if it was found\n",
    "find(\"Bngalore, India\")\n",
    "\n",
    "## Look for New Delhi, India and update it to Bangalore, India if it was found\n",
    "update(\"New Delhi, India\", \"Bangalore, India\")\n",
    "\n",
    "## Print out the list after all updates\n",
    "traverse()"
   ]
  }
 ]
}